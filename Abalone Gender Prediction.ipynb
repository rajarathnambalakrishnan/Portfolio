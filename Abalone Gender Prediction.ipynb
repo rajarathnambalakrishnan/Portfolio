{
 "cells": [
  {
   "cell_type": "markdown",
   "metadata": {},
   "source": [
    "# Task : Predict SEX of Abalone"
   ]
  },
  {
   "cell_type": "markdown",
   "metadata": {},
   "source": [
    "> First import the data and check the structure and missing values"
   ]
  },
  {
   "cell_type": "code",
   "execution_count": 1,
   "metadata": {},
   "outputs": [],
   "source": [
    "import pandas as pd\n",
    "import numpy as np\n",
    "import matplotlib.pyplot as plt\n",
    "import seaborn as sns"
   ]
  },
  {
   "cell_type": "code",
   "execution_count": 2,
   "metadata": {},
   "outputs": [],
   "source": [
    "sns.set()"
   ]
  },
  {
   "cell_type": "code",
   "execution_count": 3,
   "metadata": {},
   "outputs": [],
   "source": [
    "raw1 = pd.read_csv('abalone.csv')"
   ]
  },
  {
   "cell_type": "code",
   "execution_count": 4,
   "metadata": {},
   "outputs": [
    {
     "data": {
      "text/html": [
       "<div>\n",
       "<style scoped>\n",
       "    .dataframe tbody tr th:only-of-type {\n",
       "        vertical-align: middle;\n",
       "    }\n",
       "\n",
       "    .dataframe tbody tr th {\n",
       "        vertical-align: top;\n",
       "    }\n",
       "\n",
       "    .dataframe thead th {\n",
       "        text-align: right;\n",
       "    }\n",
       "</style>\n",
       "<table border=\"1\" class=\"dataframe\">\n",
       "  <thead>\n",
       "    <tr style=\"text-align: right;\">\n",
       "      <th></th>\n",
       "      <th>Sex</th>\n",
       "      <th>Length</th>\n",
       "      <th>Diameter</th>\n",
       "      <th>Height</th>\n",
       "      <th>Whole weight</th>\n",
       "      <th>Shucked weight</th>\n",
       "      <th>Viscera weight</th>\n",
       "      <th>Shell weight</th>\n",
       "      <th>Rings</th>\n",
       "    </tr>\n",
       "  </thead>\n",
       "  <tbody>\n",
       "    <tr>\n",
       "      <th>0</th>\n",
       "      <td>M</td>\n",
       "      <td>0.455</td>\n",
       "      <td>0.365</td>\n",
       "      <td>0.095</td>\n",
       "      <td>0.5140</td>\n",
       "      <td>0.2245</td>\n",
       "      <td>0.1010</td>\n",
       "      <td>0.150</td>\n",
       "      <td>15</td>\n",
       "    </tr>\n",
       "    <tr>\n",
       "      <th>1</th>\n",
       "      <td>M</td>\n",
       "      <td>0.350</td>\n",
       "      <td>0.265</td>\n",
       "      <td>0.090</td>\n",
       "      <td>0.2255</td>\n",
       "      <td>0.0995</td>\n",
       "      <td>0.0485</td>\n",
       "      <td>0.070</td>\n",
       "      <td>7</td>\n",
       "    </tr>\n",
       "    <tr>\n",
       "      <th>2</th>\n",
       "      <td>F</td>\n",
       "      <td>0.530</td>\n",
       "      <td>0.420</td>\n",
       "      <td>0.135</td>\n",
       "      <td>0.6770</td>\n",
       "      <td>0.2565</td>\n",
       "      <td>0.1415</td>\n",
       "      <td>0.210</td>\n",
       "      <td>9</td>\n",
       "    </tr>\n",
       "    <tr>\n",
       "      <th>3</th>\n",
       "      <td>M</td>\n",
       "      <td>0.440</td>\n",
       "      <td>0.365</td>\n",
       "      <td>0.125</td>\n",
       "      <td>0.5160</td>\n",
       "      <td>0.2155</td>\n",
       "      <td>0.1140</td>\n",
       "      <td>0.155</td>\n",
       "      <td>10</td>\n",
       "    </tr>\n",
       "    <tr>\n",
       "      <th>4</th>\n",
       "      <td>I</td>\n",
       "      <td>0.330</td>\n",
       "      <td>0.255</td>\n",
       "      <td>0.080</td>\n",
       "      <td>0.2050</td>\n",
       "      <td>0.0895</td>\n",
       "      <td>0.0395</td>\n",
       "      <td>0.055</td>\n",
       "      <td>7</td>\n",
       "    </tr>\n",
       "  </tbody>\n",
       "</table>\n",
       "</div>"
      ],
      "text/plain": [
       "  Sex  Length    Diameter  Height   Whole weight     Shucked weight  \\\n",
       "0   M     0.455     0.365    0.095           0.5140          0.2245   \n",
       "1   M     0.350     0.265    0.090           0.2255          0.0995   \n",
       "2   F     0.530     0.420    0.135           0.6770          0.2565   \n",
       "3   M     0.440     0.365    0.125           0.5160          0.2155   \n",
       "4   I     0.330     0.255    0.080           0.2050          0.0895   \n",
       "\n",
       "   Viscera weight   Shell weight     Rings  \n",
       "0           0.1010            0.150     15  \n",
       "1           0.0485            0.070      7  \n",
       "2           0.1415            0.210      9  \n",
       "3           0.1140            0.155     10  \n",
       "4           0.0395            0.055      7  "
      ]
     },
     "execution_count": 4,
     "metadata": {},
     "output_type": "execute_result"
    }
   ],
   "source": [
    "raw1.head()"
   ]
  },
  {
   "cell_type": "code",
   "execution_count": 5,
   "metadata": {},
   "outputs": [],
   "source": [
    "# to strip the white spaces in column names\n",
    "raw1.columns = raw1.columns.str.strip()"
   ]
  },
  {
   "cell_type": "code",
   "execution_count": 6,
   "metadata": {},
   "outputs": [
    {
     "data": {
      "text/plain": [
       "Index(['Sex', 'Length', 'Diameter', 'Height', 'Whole weight', 'Shucked weight',\n",
       "       'Viscera weight', 'Shell weight', 'Rings'],\n",
       "      dtype='object')"
      ]
     },
     "execution_count": 6,
     "metadata": {},
     "output_type": "execute_result"
    }
   ],
   "source": [
    "raw1.columns"
   ]
  },
  {
   "cell_type": "code",
   "execution_count": 7,
   "metadata": {},
   "outputs": [
    {
     "name": "stdout",
     "output_type": "stream",
     "text": [
      "<class 'pandas.core.frame.DataFrame'>\n",
      "RangeIndex: 4177 entries, 0 to 4176\n",
      "Data columns (total 9 columns):\n",
      "Sex               4177 non-null object\n",
      "Length            4177 non-null float64\n",
      "Diameter          4177 non-null float64\n",
      "Height            4177 non-null float64\n",
      "Whole weight      4177 non-null float64\n",
      "Shucked weight    4177 non-null float64\n",
      "Viscera weight    4177 non-null float64\n",
      "Shell weight      4177 non-null float64\n",
      "Rings             4177 non-null int64\n",
      "dtypes: float64(7), int64(1), object(1)\n",
      "memory usage: 293.8+ KB\n"
     ]
    }
   ],
   "source": [
    "raw1.info()"
   ]
  },
  {
   "cell_type": "markdown",
   "metadata": {},
   "source": [
    "#### Initial Observations:\n",
    "\n",
    "<ol>\n",
    "<li>Total : 4177 entries</li>\n",
    "<li>No missing values as per this stage</li>\n",
    "<li>Categorical variable : Sex</li>\n",
    "<li>Other parameters are mostly floating pt data except for 'Rings' column.</li>\n",
    "</ol>"
   ]
  },
  {
   "cell_type": "markdown",
   "metadata": {},
   "source": [
    "### Next few steps to follow:"
   ]
  },
  {
   "cell_type": "markdown",
   "metadata": {},
   "source": [
    "1. Prepare data for learning\n",
    "2. creating a pipeline for that fact\n",
    "3. split data for train/test\n",
    "4. Train and test on Logistic, SVC, Decision Tree, RF \n",
    "5. Compare the previous results with bagging and pasting methods\n",
    "6. present and confirm a particular method or model\n",
    "7. Improve the performance of models by other methods such as grid search, outliers removal or feature engineering etx.\n"
   ]
  },
  {
   "cell_type": "code",
   "execution_count": 8,
   "metadata": {},
   "outputs": [
    {
     "data": {
      "text/plain": [
       "M    1528\n",
       "I    1342\n",
       "F    1307\n",
       "Name: Sex, dtype: int64"
      ]
     },
     "execution_count": 8,
     "metadata": {},
     "output_type": "execute_result"
    }
   ],
   "source": [
    "raw1.Sex.value_counts()"
   ]
  },
  {
   "cell_type": "code",
   "execution_count": 9,
   "metadata": {},
   "outputs": [],
   "source": [
    "# splitting the dataset for train and test\n",
    "\n",
    "from sklearn.model_selection import train_test_split\n",
    "\n",
    "train_set, test_set = train_test_split(raw1, test_size=0.3, random_state = 42)"
   ]
  },
  {
   "cell_type": "markdown",
   "metadata": {},
   "source": [
    "> Checking whether the split gave a representative sampling"
   ]
  },
  {
   "cell_type": "code",
   "execution_count": 10,
   "metadata": {},
   "outputs": [
    {
     "data": {
      "text/plain": [
       "M    0.366062\n",
       "F    0.318166\n",
       "I    0.315771\n",
       "Name: Sex, dtype: float64"
      ]
     },
     "execution_count": 10,
     "metadata": {},
     "output_type": "execute_result"
    }
   ],
   "source": [
    "train_set['Sex'].value_counts()/len(train_set)"
   ]
  },
  {
   "cell_type": "code",
   "execution_count": 11,
   "metadata": {},
   "outputs": [
    {
     "data": {
      "text/plain": [
       "M    0.365231\n",
       "I    0.334131\n",
       "F    0.300638\n",
       "Name: Sex, dtype: float64"
      ]
     },
     "execution_count": 11,
     "metadata": {},
     "output_type": "execute_result"
    }
   ],
   "source": [
    "test_set['Sex'].value_counts()/len(test_set)"
   ]
  },
  {
   "cell_type": "markdown",
   "metadata": {},
   "source": [
    "> create a pipeline to encode categorical variable and scale the data"
   ]
  },
  {
   "cell_type": "code",
   "execution_count": 12,
   "metadata": {},
   "outputs": [],
   "source": [
    "from sklearn.preprocessing import OrdinalEncoder\n",
    "from sklearn.preprocessing import StandardScaler\n",
    "from sklearn.compose import ColumnTransformer\n",
    "from sklearn.pipeline import Pipeline\n",
    "\n",
    "# prepare the training data\n",
    "x_train = train_set.drop('Sex',axis = 1)\n",
    "y_train = train_set[['Sex']]\n",
    "\n",
    "pl = Pipeline([('std_scaler',StandardScaler())])\n",
    "x = pl.fit_transform(x_train)\n",
    "\n",
    "ord_enc = OrdinalEncoder()\n",
    "y = ord_enc.fit_transform(y_train)"
   ]
  },
  {
   "cell_type": "code",
   "execution_count": 13,
   "metadata": {},
   "outputs": [],
   "source": [
    "# prepare the testing data\n",
    "\n",
    "x_test = test_set.drop('Sex',axis = 1)\n",
    "y_test = test_set[['Sex']]\n",
    "\n",
    "x_t = pl.fit_transform(x_test)\n",
    "y_t = ord_enc.fit_transform(y_test)"
   ]
  },
  {
   "cell_type": "code",
   "execution_count": 14,
   "metadata": {},
   "outputs": [
    {
     "name": "stdout",
     "output_type": "stream",
     "text": [
      "shape of x train: (2923, 8)\n",
      "shape of y train: (2923, 1)\n",
      "shape of x test: (1254, 8)\n",
      "shape of y test: (1254, 1)\n"
     ]
    }
   ],
   "source": [
    "print(\"shape of x train:\",x.shape)\n",
    "print(\"shape of y train:\",y.shape)\n",
    "print(\"shape of x test:\",x_t.shape)\n",
    "print(\"shape of y test:\",y_t.shape)"
   ]
  },
  {
   "cell_type": "code",
   "execution_count": 15,
   "metadata": {},
   "outputs": [
    {
     "data": {
      "text/plain": [
       "[array(['F', 'I', 'M'], dtype=object)]"
      ]
     },
     "execution_count": 15,
     "metadata": {},
     "output_type": "execute_result"
    }
   ],
   "source": [
    "ord_enc.categories_"
   ]
  },
  {
   "cell_type": "markdown",
   "metadata": {},
   "source": [
    "> let us train a bunch of classifiers and test the accuracy scores across"
   ]
  },
  {
   "cell_type": "code",
   "execution_count": 36,
   "metadata": {},
   "outputs": [],
   "source": [
    "from sklearn.linear_model import LogisticRegression\n",
    "from sklearn.svm import SVC\n",
    "from sklearn.tree import DecisionTreeClassifier\n",
    "from sklearn.ensemble import RandomForestClassifier\n",
    "from sklearn.ensemble import VotingClassifier\n",
    "from sklearn.ensemble import AdaBoostClassifier\n",
    "from sklearn.metrics import accuracy_score\n",
    "\n",
    "log_clf = LogisticRegression(solver='lbfgs', random_state=42, multi_class = 'auto')\n",
    "\n",
    "svm_clf = SVC(gamma='scale', random_state=42)\n",
    "\n",
    "tree_clf = DecisionTreeClassifier(random_state=42)\n",
    "\n",
    "rnd_clf = RandomForestClassifier(n_estimators = 250, n_jobs = -1,random_state=42)\n",
    "\n",
    "voting_clf = VotingClassifier(estimators=[('lr',log_clf),('svc',svm_clf),('tr',tree_clf),('rf',rnd_clf)], voting='hard')\n",
    "\n",
    "ada_clf = AdaBoostClassifier( DecisionTreeClassifier(max_depth=1), n_estimators=500, algorithm='SAMME.R', learning_rate=0.1)\n",
    "\n"
   ]
  },
  {
   "cell_type": "code",
   "execution_count": null,
   "metadata": {},
   "outputs": [],
   "source": [
    "# preparing a decision boundary plotting function to view the performance for each classifier later\n",
    "\n",
    "from matplotlib.colors import ListedColormap\n",
    "\n",
    "def plot_decision_boundary(clf, X, y, axes=[-1.5, 2.45, -1, 1.5], alpha=0.5, contour=True):\n",
    "    x1s = np.linspace(axes[0], axes[1], 100)\n",
    "    x2s = np.linspace(axes[2], axes[3], 100)\n",
    "    x1, x2 = np.meshgrid(x1s, x2s)\n",
    "    X_new = np.c_[x1.ravel(), x2.ravel()]\n",
    "    y_pred = clf.predict(X_new).reshape(x1.shape)\n",
    "    custom_cmap = ListedColormap(['#fafab0','#9898ff','#a0faa0'])\n",
    "    plt.contourf(x1, x2, y_pred, alpha=0.3, cmap=custom_cmap)\n",
    "    if contour:\n",
    "        custom_cmap2 = ListedColormap(['#7d7d58','#4c4c7f','#507d50'])\n",
    "        plt.contour(x1, x2, y_pred, cmap=custom_cmap2, alpha=0.8)\n",
    "    plt.plot(X[:, 0][y==0], X[:, 1][y==0], \"yo\", alpha=alpha)\n",
    "    plt.plot(X[:, 0][y==1], X[:, 1][y==1], \"bs\", alpha=alpha)\n",
    "    plt.axis(axes)\n",
    "    plt.xlabel(r\"$x_1$\", fontsize=18)\n",
    "    plt.ylabel(r\"$x_2$\", fontsize=18, rotation=0)"
   ]
  },
  {
   "cell_type": "code",
   "execution_count": 37,
   "metadata": {},
   "outputs": [
    {
     "name": "stdout",
     "output_type": "stream",
     "text": [
      "LogisticRegression :  0.5637958532695375\n",
      "Conf_mat:\n",
      "[[149  61 167]\n",
      " [ 31 345  43]\n",
      " [148  97 213]]\n",
      "SVC :  0.562200956937799\n",
      "Conf_mat:\n",
      "[[125  50 202]\n",
      " [ 20 328  71]\n",
      " [125  81 252]]\n",
      "DecisionTreeClassifier :  0.48086124401913877\n",
      "Conf_mat:\n",
      "[[142  53 182]\n",
      " [ 67 267  85]\n",
      " [181  83 194]]\n",
      "RandomForestClassifier :  0.5406698564593302\n",
      "Conf_mat:\n",
      "[[153  42 182]\n",
      " [ 44 315  60]\n",
      " [177  71 210]]\n",
      "VotingClassifier :  0.5454545454545454\n",
      "Conf_mat:\n",
      "[[174  52 151]\n",
      " [ 47 332  40]\n",
      " [188  92 178]]\n",
      "AdaBoostClassifier :  0.5590111642743222\n",
      "Conf_mat:\n",
      "[[ 79  58 240]\n",
      " [ 13 338  68]\n",
      " [ 78  96 284]]\n"
     ]
    }
   ],
   "source": [
    "# checking the accuracy of each classifier\n",
    "from sklearn.metrics import confusion_matrix\n",
    "\n",
    "for clf in (log_clf, svm_clf, tree_clf,rnd_clf,voting_clf,ada_clf):\n",
    "    \n",
    "    clf.fit(x,y.ravel())\n",
    "    y_pred = clf.predict(x_t)\n",
    "    print(clf.__class__.__name__,\": \",accuracy_score(y_t.ravel(),y_pred))\n",
    "    print(\"Conf_mat:\") \n",
    "    print(confusion_matrix(y_t, y_pred))"
   ]
  },
  {
   "cell_type": "code",
   "execution_count": 35,
   "metadata": {},
   "outputs": [
    {
     "name": "stdout",
     "output_type": "stream",
     "text": [
      "Length : 0.168\n",
      "Diameter : 0.066\n",
      "Height : 0.06\n",
      "Whole weight : 0.154\n",
      "Shucked weight : 0.198\n",
      "Viscera weight : 0.184\n",
      "Shell weight : 0.138\n",
      "Rings : 0.032\n"
     ]
    }
   ],
   "source": [
    "# feature importance in each \n",
    "for name,score in zip(x_train.columns, ada_clf.feature_importances_):\n",
    "    print(name,':',score)"
   ]
  },
  {
   "cell_type": "code",
   "execution_count": 26,
   "metadata": {},
   "outputs": [
    {
     "name": "stdout",
     "output_type": "stream",
     "text": [
      "Length : 0.09611885284474099\n",
      "Diameter : 0.08485996630672227\n",
      "Height : 0.08242096812694542\n",
      "Whole weight : 0.11402442576340462\n",
      "Shucked weight : 0.13989324808682857\n",
      "Viscera weight : 0.25504215214271414\n",
      "Shell weight : 0.13242771672739503\n",
      "Rings : 0.095212670001249\n"
     ]
    }
   ],
   "source": [
    "for name,score in zip(x_train.columns, tree_clf.feature_importances_):\n",
    "    print(name,':',score)"
   ]
  },
  {
   "cell_type": "code",
   "execution_count": null,
   "metadata": {},
   "outputs": [],
   "source": []
  },
  {
   "cell_type": "code",
   "execution_count": null,
   "metadata": {},
   "outputs": [],
   "source": []
  },
  {
   "cell_type": "code",
   "execution_count": null,
   "metadata": {},
   "outputs": [],
   "source": []
  },
  {
   "cell_type": "code",
   "execution_count": null,
   "metadata": {},
   "outputs": [],
   "source": []
  },
  {
   "cell_type": "markdown",
   "metadata": {},
   "source": [
    "> **OBSERVATIONS:**\n",
    "1. Better than chance predictions (33%)\n",
    "2. From the confusion matrix it is evident that classifiers are good at I but confuse M and F.\n",
    "3. More improvement could be done by removing some outliers\n",
    "4. Plotting the decision boundaries for these classifiers might provide a better picture\n",
    "5. Some feature engineering to enforce better segregation"
   ]
  },
  {
   "cell_type": "code",
   "execution_count": 61,
   "metadata": {},
   "outputs": [],
   "source": [
    "# change the dataframe target column for visualization \n",
    "\n",
    "target_map = {'M':0, \n",
    "              'F':1,\n",
    "              'I':2 }\n",
    "# Use the pandas apply method to numerically encode our attrition target variable\n",
    "raw1['Sex'] = raw1['Sex'].apply(lambda x: target_map[x])"
   ]
  },
  {
   "cell_type": "code",
   "execution_count": null,
   "metadata": {},
   "outputs": [],
   "source": []
  },
  {
   "cell_type": "code",
   "execution_count": null,
   "metadata": {},
   "outputs": [],
   "source": []
  },
  {
   "cell_type": "code",
   "execution_count": null,
   "metadata": {},
   "outputs": [],
   "source": []
  },
  {
   "cell_type": "code",
   "execution_count": null,
   "metadata": {},
   "outputs": [],
   "source": []
  },
  {
   "cell_type": "markdown",
   "metadata": {},
   "source": [
    "### Simple EDA to check the following:"
   ]
  },
  {
   "cell_type": "markdown",
   "metadata": {},
   "source": [
    "> 1. Outliers\n",
    "> 2. Distribution"
   ]
  },
  {
   "cell_type": "code",
   "execution_count": 8,
   "metadata": {},
   "outputs": [],
   "source": [
    "# Filtering each type into separate dfs as per sexes\n",
    "M = raw1.loc[raw1['Sex']=='M',:]\n",
    "F = raw1.loc[raw1['Sex']=='F',:]\n",
    "I = raw1.loc[raw1['Sex']=='I',:]"
   ]
  },
  {
   "cell_type": "code",
   "execution_count": 20,
   "metadata": {},
   "outputs": [
    {
     "data": {
      "image/png": "[encoded data removed]",
      "text/plain": [
       "<Figure size 1584x720 with 1 Axes>"
      ]
     },
     "metadata": {},
     "output_type": "display_data"
    },
    {
     "data": {
      "image/png": "[encoded data removed]",
      "text/plain": [
       "<Figure size 1584x720 with 1 Axes>"
      ]
     },
     "metadata": {},
     "output_type": "display_data"
    },
    {
     "data": {
      "image/png": "[encoded data removed]",
      "text/plain": [
       "<Figure size 1584x720 with 1 Axes>"
      ]
     },
     "metadata": {},
     "output_type": "display_data"
    }
   ],
   "source": [
    "# Plotting Box plots for each sex\n",
    "\n",
    "_ = raw1.loc[raw1['Sex']=='M'].plot(kind = \"box\", figsize = (22,10), fontsize = 20)\n",
    "_ = raw1.loc[raw1['Sex']=='F'].plot(kind = \"box\", figsize = (22,10), fontsize = 20)\n",
    "_ = raw1.loc[raw1['Sex']=='I'].plot(kind = \"box\", figsize = (22,10), fontsize = 20)"
   ]
  },
  {
   "cell_type": "markdown",
   "metadata": {},
   "source": [
    "> **From the box plots it is evident that some values for Rings column have some outliers**"
   ]
  },
  {
   "cell_type": "code",
   "execution_count": 63,
   "metadata": {},
   "outputs": [],
   "source": [
    "# Let us check the % of outliers for each category based on Rings column\n",
    "IQR_M = 1.5*(M['Rings'].quantile(.75)-M['Rings'].quantile(.25))\n",
    "IQR_F = 1.5*(F['Rings'].quantile(.75)-F['Rings'].quantile(.25))\n",
    "IQR_I = 1.5*(I['Rings'].quantile(.75)-I['Rings'].quantile(.25))\n",
    "\n",
    "M_outl = (M.loc[M['Rings']< (M['Rings'].quantile(0.25)-IQR_M),:]['Rings'].count()) + (M.loc[M['Rings']> (M['Rings'].quantile(0.75)+IQR_M),:]['Rings'].count())\n",
    "F_outl = (F.loc[F['Rings']< (F['Rings'].quantile(0.25)-IQR_F),:]['Rings'].count()) + (F.loc[F['Rings']> (F['Rings'].quantile(0.75)+IQR_F),:]['Rings'].count())\n",
    "I_outl = (I.loc[I['Rings']< (I['Rings'].quantile(0.25)-IQR_I),:]['Rings'].count()) + (I.loc[I['Rings']> (I['Rings'].quantile(0.75)+IQR_I),:]['Rings'].count())"
   ]
  },
  {
   "cell_type": "code",
   "execution_count": 67,
   "metadata": {},
   "outputs": [
    {
     "name": "stdout",
     "output_type": "stream",
     "text": [
      "Percentage of outlier data = 0.056\n"
     ]
    }
   ],
   "source": [
    "print(\"Percentage of outlier data =\",round((M_outl+F_outl+I_outl)/4177,3))"
   ]
  },
  {
   "cell_type": "code",
   "execution_count": 62,
   "metadata": {},
   "outputs": [
    {
     "data": {
      "text/plain": [
       "94"
      ]
     },
     "execution_count": 62,
     "metadata": {},
     "output_type": "execute_result"
    }
   ],
   "source": [
    "M_outl\n"
   ]
  },
  {
   "cell_type": "code",
   "execution_count": null,
   "metadata": {},
   "outputs": [],
   "source": [
    "plt.plot(x=M.Rings,y=)"
   ]
  },
  {
   "cell_type": "markdown",
   "metadata": {},
   "source": [
    "### Preparation of the Dataset for learning"
   ]
  },
  {
   "cell_type": "markdown",
   "metadata": {},
   "source": [
    "> Convert Categorial variable into numerical type\n",
    "\n",
    "> Center and scale the data "
   ]
  },
  {
   "cell_type": "code",
   "execution_count": null,
   "metadata": {},
   "outputs": [],
   "source": []
  },
  {
   "cell_type": "code",
   "execution_count": null,
   "metadata": {},
   "outputs": [],
   "source": []
  },
  {
   "cell_type": "code",
   "execution_count": null,
   "metadata": {},
   "outputs": [],
   "source": []
  },
  {
   "cell_type": "code",
   "execution_count": null,
   "metadata": {},
   "outputs": [],
   "source": []
  },
  {
   "cell_type": "code",
   "execution_count": null,
   "metadata": {},
   "outputs": [],
   "source": []
  },
  {
   "cell_type": "code",
   "execution_count": null,
   "metadata": {},
   "outputs": [],
   "source": []
  }
 ],
 "metadata": {
  "kernelspec": {
   "display_name": "Python 3",
   "language": "python",
   "name": "python3"
  },
  "language_info": {
   "codemirror_mode": {
    "name": "ipython",
    "version": 3
   },
   "file_extension": ".py",
   "mimetype": "text/x-python",
   "name": "python",
   "nbconvert_exporter": "python",
   "pygments_lexer": "ipython3",
   "version": "3.7.3"
  }
 },
 "nbformat": 4,
 "nbformat_minor": 2
}
